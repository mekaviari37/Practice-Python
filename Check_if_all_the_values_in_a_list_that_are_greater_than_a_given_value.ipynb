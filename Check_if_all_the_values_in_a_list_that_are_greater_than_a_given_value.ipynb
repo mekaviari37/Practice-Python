{
  "nbformat": 4,
  "nbformat_minor": 0,
  "metadata": {
    "colab": {
      "provenance": [],
      "authorship_tag": "ABX9TyOYZAfZE01vFquRQ6t2pGlv",
      "include_colab_link": true
    },
    "kernelspec": {
      "name": "python3",
      "display_name": "Python 3"
    },
    "language_info": {
      "name": "python"
    }
  },
  "cells": [
    {
      "cell_type": "markdown",
      "metadata": {
        "id": "view-in-github",
        "colab_type": "text"
      },
      "source": [
        "<a href=\"https://colab.research.google.com/github/mekaviari37/Practice-Python/blob/main/Check_if_all_the_values_in_a_list_that_are_greater_than_a_given_value.ipynb\" target=\"_parent\"><img src=\"https://colab.research.google.com/assets/colab-badge.svg\" alt=\"Open In Colab\"/></a>"
      ]
    },
    {
      "cell_type": "markdown",
      "source": [
        "https://www.geeksforgeeks.org/python-check-values-list-greater-given-value/"
      ],
      "metadata": {
        "id": "-DozliY_VPvY"
      }
    },
    {
      "cell_type": "markdown",
      "source": [
        "\n",
        "By traversing in the list, we can compare every element and check if all the elements in the given list are greater than the given value or not. "
      ],
      "metadata": {
        "id": "6Btiys4MJlSB"
      }
    },
    {
      "cell_type": "markdown",
      "source": [
        "<!-- ![](https://media.geeksforgeeks.org/wp-content/uploads/WhatsApp-Image-2017-12-23-at-6.50.28-PM-232x300.jpeg) -->\n",
        "\n",
        "<!-- <div style=\"display: flex; gap:10px; float: center\"> -->\n",
        "  <img src=\"https://media.geeksforgeeks.org/wp-content/uploads/WhatsApp-Image-2017-12-23-at-6.50.28-PM-232x300.jpeg\" alt=\"img\"/>\n",
        "  <p style=\"float: right;font-size: 30px;\">\n",
        "    \n",
        "  </p>\n",
        "</div>\n",
        "\n",
        "## Method 1: Traversal of list\n",
        "By traversing in the list, we can compare every element and check if all the elements in the given list are greater than the given value or not. "
      ],
      "metadata": {
        "id": "A7gnoI_kPppP"
      }
    },
    {
      "cell_type": "code",
      "source": [
        "# python program to check if all\n",
        "# values in the list are greater\n",
        "# than val using traversal\n",
        " \n",
        "def check(list1, val):\n",
        "     \n",
        "    # traverse in the list\n",
        "    for x in list1:\n",
        " \n",
        "        # compare with all the values\n",
        "        # with val\n",
        "        if val>= x:\n",
        "            return False\n",
        "    return True\n",
        "     \n",
        "     \n",
        "# driver code\n",
        "list1 =[10, 20, 30, 40, 50, 60]\n",
        "val = 5\n",
        "if(check(list1, val)):\n",
        "    print(\"Yes\")\n",
        "else:\n",
        "    print(\"No\")\n",
        " \n",
        "val = 20\n",
        "if(check(list1, val)):\n",
        "    print(\"Yes\")\n",
        "else:\n",
        "    print(\"No\")"
      ],
      "metadata": {
        "colab": {
          "base_uri": "https://localhost:8080/"
        },
        "id": "CXkKWhODJe5j",
        "outputId": "cd275427-0155-4c59-ccc2-4443f9aed3b5"
      },
      "execution_count": 2,
      "outputs": [
        {
          "output_type": "stream",
          "name": "stdout",
          "text": [
            "Yes\n",
            "No\n"
          ]
        }
      ]
    },
    {
      "cell_type": "markdown",
      "source": [
        "# Method 2: Using all() function:\n",
        "\n",
        "Using all() function we can check if all values are greater than any given value in a single line. It returns true if the given condition inside the all() function is true for all values, else it returns false. "
      ],
      "metadata": {
        "id": "aEa1RCkvUTE9"
      }
    },
    {
      "cell_type": "code",
      "source": [
        "# python program to check if all\n",
        "# values in the list are greater\n",
        "# than val using all() function\n",
        " \n",
        "def check(list1, val):\n",
        "    return(all(x > val for x in list1))\n",
        "     \n",
        "     \n",
        "# driver code\n",
        "list1 =[10, 20, 30, 40, 50, 60]\n",
        "val = 5\n",
        "if(check(list1, val)):\n",
        "    print(\"Yes\")\n",
        "else:\n",
        "    print(\"No\")\n",
        " \n",
        "val = 20\n",
        "if(check(list1, val)):\n",
        "    print(\"Yes\")\n",
        "else:\n",
        "    print(\"No\")"
      ],
      "metadata": {
        "colab": {
          "base_uri": "https://localhost:8080/"
        },
        "id": "5iCVGalRJe8N",
        "outputId": "9d909be0-cc6c-481a-f5bd-ba7a6ace2d16"
      },
      "execution_count": 4,
      "outputs": [
        {
          "output_type": "stream",
          "name": "stdout",
          "text": [
            "Yes\n",
            "No\n"
          ]
        }
      ]
    },
    {
      "cell_type": "markdown",
      "source": [
        "# Method 3 : Using min() method"
      ],
      "metadata": {
        "id": "M0CrufgoUgm-"
      }
    },
    {
      "cell_type": "code",
      "source": [
        "# python program to check if all\n",
        "# values in the list are greater\n",
        "# than val\n",
        "list1 =[10, 20, 30, 40, 50, 60]\n",
        "val = 5\n",
        "if(min(list1)>=val):\n",
        "    print(\"Yes\")\n",
        "else:\n",
        "    print(\"No\")"
      ],
      "metadata": {
        "colab": {
          "base_uri": "https://localhost:8080/"
        },
        "id": "6aQOEfCJJe-x",
        "outputId": "76d7ec0e-3bd3-4464-9e0a-b802a682d04c"
      },
      "execution_count": 5,
      "outputs": [
        {
          "output_type": "stream",
          "name": "stdout",
          "text": [
            "Yes\n"
          ]
        }
      ]
    },
    {
      "cell_type": "markdown",
      "source": [
        "#Method 4: Using any function\n",
        "\n",
        "One approach is using a generator expression with the any function."
      ],
      "metadata": {
        "id": "9YdSctB9UryX"
      }
    },
    {
      "cell_type": "code",
      "source": [
        "def check_greater(lst, val):\n",
        "    return not any(x <= val for x in lst)\n",
        " \n",
        "list1 = [10, 20, 30, 40, 50]\n",
        "val = 20\n",
        "print(check_greater(list1, val)) # False\n",
        " \n",
        "val = 5\n",
        "print(check_greater(list1, val)) # True"
      ],
      "metadata": {
        "colab": {
          "base_uri": "https://localhost:8080/"
        },
        "id": "dpYXCXhjUoO1",
        "outputId": "653d475a-99bc-449b-da8c-5ff03cd1eb1b"
      },
      "execution_count": 6,
      "outputs": [
        {
          "output_type": "stream",
          "name": "stdout",
          "text": [
            "False\n",
            "True\n"
          ]
        }
      ]
    },
    {
      "cell_type": "markdown",
      "source": [
        "The any function returns True if any element in the generator expression evaluates to True, and False otherwise. The not operator is used to negate the result of any, so that the function returns True if all elements in the list are greater than the given value, and False otherwise."
      ],
      "metadata": {
        "id": "Un24Jug1UyiB"
      }
    },
    {
      "cell_type": "markdown",
      "source": [
        "#Method #5:Using filter()+lambda functions"
      ],
      "metadata": {
        "id": "IQv7hbuaUzDf"
      }
    },
    {
      "cell_type": "code",
      "source": [
        "# python program to check if all\n",
        "# values in the list are greater\n",
        " \n",
        " \n",
        "def check(list1, val):\n",
        "    return(len(list(filter(lambda x: x > val, list1))) == len(list1))\n",
        " \n",
        " \n",
        "# driver code\n",
        "list1 = [10, 20, 30, 40, 50, 60]\n",
        "val = 5\n",
        "if(check(list1, val)):\n",
        "    print(\"Yes\")\n",
        "else:\n",
        "    print(\"No\")\n",
        "val = 20\n",
        "if (check(list1, val)):\n",
        "    print(\"Yes\")\n",
        "else:\n",
        "    print(\"No\")"
      ],
      "metadata": {
        "colab": {
          "base_uri": "https://localhost:8080/"
        },
        "id": "SwlnBzMpUutY",
        "outputId": "cbcabf2d-4082-4ac6-8809-31370a2ee803"
      },
      "execution_count": 7,
      "outputs": [
        {
          "output_type": "stream",
          "name": "stdout",
          "text": [
            "Yes\n",
            "No\n"
          ]
        }
      ]
    },
    {
      "cell_type": "markdown",
      "source": [
        "# Method#6: Using Recursive method.\n",
        "\n",
        "Algorithm:\n",
        "\n",
        "1. The check function takes two arguments: list1 and val.\n",
        "2. If the length of the list is 0, the function returns True, since an empty list has no elements that could be less than val.\n",
        "3. Otherwise, the function checks if the first element in the list is greater than val.\n",
        "4. If it is, the function calls itself with the rest of the list (from the second element onward) and the same value val.\n",
        "5. If it is not, the function returns False, since not all the elements in the list are greater than val."
      ],
      "metadata": {
        "id": "QNn8_HwgU8SD"
      }
    },
    {
      "cell_type": "code",
      "source": [
        "# python program to check if all\n",
        "# values in the list are greater\n",
        "# than val using Recursive function\n",
        " \n",
        "def check(list1, val):\n",
        "    # Base case: if the list is empty, return True\n",
        "    if len(list1) == 0:\n",
        "        return True\n",
        "     \n",
        "    # Recursive case: check if the first element is greater than val,\n",
        "    # and if so, call the function recursively with the rest of the list\n",
        "    # and the same value val. Otherwise, return False.\n",
        "    if list1[0] > val:\n",
        "        return check(list1[1:], val)\n",
        "    else:\n",
        "        return False\n",
        " \n",
        "     \n",
        "     \n",
        "# driver code\n",
        "list1 =[10, 20, 30, 40, 50, 60]\n",
        "val = 5\n",
        "if(check(list1, val)):\n",
        "    print(\"Yes\")\n",
        "else:\n",
        "    print(\"No\")\n",
        " \n",
        "val = 20\n",
        "if(check(list1, val)):\n",
        "    print(\"Yes\")\n",
        "else:\n",
        "    print(\"No\")\n",
        "#this code contributed by tvsk"
      ],
      "metadata": {
        "colab": {
          "base_uri": "https://localhost:8080/"
        },
        "id": "2kp7eQlyU31Z",
        "outputId": "b75b8ce7-94a5-4c3e-8109-83864d576677"
      },
      "execution_count": 8,
      "outputs": [
        {
          "output_type": "stream",
          "name": "stdout",
          "text": [
            "Yes\n",
            "No\n"
          ]
        }
      ]
    },
    {
      "cell_type": "code",
      "source": [],
      "metadata": {
        "id": "dH7yEeJ1VJsD"
      },
      "execution_count": null,
      "outputs": []
    }
  ]
}