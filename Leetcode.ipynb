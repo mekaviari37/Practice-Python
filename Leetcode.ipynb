{
  "nbformat": 4,
  "nbformat_minor": 0,
  "metadata": {
    "colab": {
      "provenance": [],
      "toc_visible": true,
      "authorship_tag": "ABX9TyNmlo5eIuCBl6jW5L3Zoj+G",
      "include_colab_link": true
    },
    "kernelspec": {
      "name": "python3",
      "display_name": "Python 3"
    },
    "language_info": {
      "name": "python"
    }
  },
  "cells": [
    {
      "cell_type": "markdown",
      "metadata": {
        "id": "view-in-github",
        "colab_type": "text"
      },
      "source": [
        "<a href=\"https://colab.research.google.com/github/mekaviari37/Practice-Python/blob/main/Leetcode.ipynb\" target=\"_parent\"><img src=\"https://colab.research.google.com/assets/colab-badge.svg\" alt=\"Open In Colab\"/></a>"
      ]
    },
    {
      "cell_type": "markdown",
      "source": [
        "My coding practice in https://leetcode.com/"
      ],
      "metadata": {
        "id": "s05qY_Si_gQJ"
      }
    },
    {
      "cell_type": "markdown",
      "source": [
        "# Easy"
      ],
      "metadata": {
        "id": "1gtmu7EF-2JD"
      }
    },
    {
      "cell_type": "code",
      "execution_count": 1,
      "metadata": {
        "id": "vuZPA1n0U_FI"
      },
      "outputs": [],
      "source": [
        "def find_sum_pair(array, target):\n",
        "    n = len(array)\n",
        "    for i in range(n):\n",
        "        for j in range(i + 1, n):\n",
        "            if array[i] + array[j] == target:\n",
        "                return array[i], array[j]\n",
        "    return None"
      ]
    },
    {
      "cell_type": "code",
      "source": [
        "# Example usage\n",
        "my_array = [2, 4, 6, 8, 10]\n",
        "target_value = 14\n",
        "\n",
        "result = find_sum_pair(my_array, target_value)\n",
        "\n",
        "if result:\n",
        "    print(f\"The pair that sums up to {target_value} is: {result[0]} and {result[1]}\")\n",
        "else:\n",
        "    print(\"No pair found.\")"
      ],
      "metadata": {
        "colab": {
          "base_uri": "https://localhost:8080/"
        },
        "id": "5C8ltfIms9cJ",
        "outputId": "288f6867-7a95-4515-fc10-0c74be4bc7a6"
      },
      "execution_count": 2,
      "outputs": [
        {
          "output_type": "stream",
          "name": "stdout",
          "text": [
            "The pair that sums up to 14 is: 4 and 10\n"
          ]
        }
      ]
    },
    {
      "cell_type": "code",
      "source": [
        "len([2, 4, 6, 8, 10])"
      ],
      "metadata": {
        "colab": {
          "base_uri": "https://localhost:8080/"
        },
        "id": "FjQEw9r6s-rv",
        "outputId": "0bc17fb8-670f-4478-f210-a1d03ac1d19b"
      },
      "execution_count": 3,
      "outputs": [
        {
          "output_type": "execute_result",
          "data": {
            "text/plain": [
              "5"
            ]
          },
          "metadata": {},
          "execution_count": 3
        }
      ]
    },
    {
      "cell_type": "code",
      "source": [
        "range(5)"
      ],
      "metadata": {
        "colab": {
          "base_uri": "https://localhost:8080/"
        },
        "id": "gNjCaKnOtQ-e",
        "outputId": "212f8839-799c-4a46-9790-714e2227db6d"
      },
      "execution_count": 4,
      "outputs": [
        {
          "output_type": "execute_result",
          "data": {
            "text/plain": [
              "range(0, 5)"
            ]
          },
          "metadata": {},
          "execution_count": 4
        }
      ]
    },
    {
      "cell_type": "code",
      "source": [
        "find_sum_pair(my_array, target_value)"
      ],
      "metadata": {
        "colab": {
          "base_uri": "https://localhost:8080/"
        },
        "id": "vO4X-J73twyo",
        "outputId": "dbdb2fce-8849-4db6-9681-ffe05bbc8e09"
      },
      "execution_count": 5,
      "outputs": [
        {
          "output_type": "execute_result",
          "data": {
            "text/plain": [
              "(4, 10)"
            ]
          },
          "metadata": {},
          "execution_count": 5
        }
      ]
    },
    {
      "cell_type": "markdown",
      "source": [
        "## Two Sum <br>\n",
        "https://leetcode.com/problems/two-sum/description/"
      ],
      "metadata": {
        "id": "soqjA2UsydVm"
      }
    },
    {
      "cell_type": "markdown",
      "source": [
        "### Solution 1: (Brute Force)"
      ],
      "metadata": {
        "id": "YUl7mUiDzm6b"
      }
    },
    {
      "cell_type": "code",
      "source": [
        "import timeit\n",
        "\n",
        "class Solution(object):\n",
        "    def twoSum(self, nums, target):\n",
        "        \"\"\"\n",
        "        :type nums: List[int]\n",
        "        :type target: int\n",
        "        :rtype: List[int]\n",
        "        \"\"\"\n",
        "        n = len(nums)\n",
        "        for i in range(n):\n",
        "            for j in range(i + 1, n):\n",
        "                if nums[i] + nums[j] == target:\n",
        "                    return [i, j]\n",
        "        return None\n",
        "\n",
        "\n",
        "# Example usage\n",
        "nums = [2, 7, 11, 15]\n",
        "target = 9\n",
        "\n",
        "# Create an instance of the Solution class\n",
        "solution = Solution()\n",
        "\n",
        "# Measure the runtime\n",
        "start_time = timeit.default_timer()\n",
        "\n",
        "# Call the twoSum method using the instance\n",
        "result = solution.twoSum(nums, target)\n",
        "\n",
        "# Calculate the runtime\n",
        "runtime = timeit.default_timer() - start_time\n",
        "\n",
        "# Print the result and runtime\n",
        "print(\"Result:\", result)\n",
        "print(\"Runtime:\", runtime)"
      ],
      "metadata": {
        "colab": {
          "base_uri": "https://localhost:8080/"
        },
        "id": "7WOhtlykwnHw",
        "outputId": "a54d37fc-ed02-4e54-8a22-03d002341383"
      },
      "execution_count": 21,
      "outputs": [
        {
          "output_type": "stream",
          "name": "stdout",
          "text": [
            "Result: [0, 1]\n",
            "Runtime: 0.00011089099984928907\n"
          ]
        }
      ]
    },
    {
      "cell_type": "markdown",
      "source": [
        "### Solution 2: (Two-pass Hash Table) <br>\n",
        "you can use a hashmap (dictionary) to store the previously seen numbers and their indices. This will allow you to achieve a more efficient solution with a time complexity of O(n)."
      ],
      "metadata": {
        "id": "ND7XsJpezkz9"
      }
    },
    {
      "cell_type": "code",
      "source": [
        "car = [\"book\",\"chair\",\"apple\"]\n",
        "\n",
        "dict = {}\n",
        "t = len(car)\n",
        "for i in range(t):\n",
        "  dict[car[i]] = i\n",
        "\n",
        "dict"
      ],
      "metadata": {
        "colab": {
          "base_uri": "https://localhost:8080/"
        },
        "id": "e_6yD-VvVS7g",
        "outputId": "ffcf6d75-6cb5-4161-dae2-8cf1df0a7373"
      },
      "execution_count": 15,
      "outputs": [
        {
          "output_type": "execute_result",
          "data": {
            "text/plain": [
              "{'book': 0, 'chair': 1, 'apple': 2}"
            ]
          },
          "metadata": {},
          "execution_count": 15
        }
      ]
    },
    {
      "cell_type": "code",
      "source": [
        "# Example usage\n",
        "nums = [2, 7, 11, 15]\n",
        "target = 9"
      ],
      "metadata": {
        "id": "LdUKyHR8Gywu"
      },
      "execution_count": 7,
      "outputs": []
    },
    {
      "cell_type": "code",
      "source": [
        "num_map = {}  # Dictionary to store the numbers and their indices\n",
        "n = len(nums)\n",
        "n"
      ],
      "metadata": {
        "colab": {
          "base_uri": "https://localhost:8080/"
        },
        "id": "W1miJGEcHM-C",
        "outputId": "6e247289-978f-4ee2-e05a-f1ecea9968ad"
      },
      "execution_count": 9,
      "outputs": [
        {
          "output_type": "execute_result",
          "data": {
            "text/plain": [
              "4"
            ]
          },
          "metadata": {},
          "execution_count": 9
        }
      ]
    },
    {
      "cell_type": "code",
      "source": [
        "for i in range(n):\n",
        "    num_map[nums[i]] = i"
      ],
      "metadata": {
        "id": "xZdHaI9NHM5B"
      },
      "execution_count": 10,
      "outputs": []
    },
    {
      "cell_type": "code",
      "source": [
        "num_map"
      ],
      "metadata": {
        "colab": {
          "base_uri": "https://localhost:8080/"
        },
        "id": "5BVLhoIEVTPy",
        "outputId": "2648a03a-96a1-4548-d293-9c0571bd8f72"
      },
      "execution_count": 11,
      "outputs": [
        {
          "output_type": "execute_result",
          "data": {
            "text/plain": [
              "{2: 0, 7: 1, 11: 2, 15: 3}"
            ]
          },
          "metadata": {},
          "execution_count": 11
        }
      ]
    },
    {
      "cell_type": "code",
      "source": [
        "# Find the complement\n",
        "for i in range(n):\n",
        "    complement = target - nums[i]\n",
        "\n",
        "complement"
      ],
      "metadata": {
        "colab": {
          "base_uri": "https://localhost:8080/"
        },
        "id": "jPwJssTHVTBw",
        "outputId": "28f9011e-871a-43b0-edba-ed671974874c"
      },
      "execution_count": 12,
      "outputs": [
        {
          "output_type": "execute_result",
          "data": {
            "text/plain": [
              "-6"
            ]
          },
          "metadata": {},
          "execution_count": 12
        }
      ]
    },
    {
      "cell_type": "code",
      "source": [
        "num_map[7]"
      ],
      "metadata": {
        "colab": {
          "base_uri": "https://localhost:8080/"
        },
        "id": "47-IvLONj5j6",
        "outputId": "92d10058-9bde-492c-cd19-58b5a2943a3f"
      },
      "execution_count": 16,
      "outputs": [
        {
          "output_type": "execute_result",
          "data": {
            "text/plain": [
              "1"
            ]
          },
          "metadata": {},
          "execution_count": 16
        }
      ]
    },
    {
      "cell_type": "code",
      "source": [
        "import timeit\n",
        "\n",
        "class Solution:\n",
        "    def twoSum(self, nums, target):\n",
        "        num_map = {}  # Dictionary to store the numbers and their indices\n",
        "        n = len(nums)\n",
        "\n",
        "        # Build the hash table\n",
        "        for i in range(n):\n",
        "            num_map[nums[i]] = i\n",
        "\n",
        "        # Find the complement\n",
        "        for i in range(n):\n",
        "            complement = target - nums[i]\n",
        "            if complement in num_map and num_map[complement] != i:\n",
        "                return [i, num_map[complement]]\n",
        "\n",
        "        return []  # No solution found\n",
        "\n",
        "\n",
        "# Example usage\n",
        "nums = [2, 7, 11, 15]\n",
        "target = 9\n",
        "\n",
        "# Create an instance of the Solution class\n",
        "solution = Solution()\n",
        "\n",
        "# Measure the runtime\n",
        "start_time = timeit.default_timer()\n",
        "\n",
        "# Call the twoSum method using the instance\n",
        "result = solution.twoSum(nums, target)\n",
        "\n",
        "# Calculate the runtime\n",
        "runtime = timeit.default_timer() - start_time\n",
        "\n",
        "# Print the result and runtime\n",
        "print(\"Result:\", result)\n",
        "print(\"Runtime:\", runtime)"
      ],
      "metadata": {
        "colab": {
          "base_uri": "https://localhost:8080/"
        },
        "id": "PXMz8EKhyrKV",
        "outputId": "e108edd3-07c5-4e04-d21e-015cce4b744a"
      },
      "execution_count": 18,
      "outputs": [
        {
          "output_type": "stream",
          "name": "stdout",
          "text": [
            "Result: [0, 1]\n",
            "Runtime: 9.982899973692838e-05\n"
          ]
        }
      ]
    },
    {
      "cell_type": "code",
      "source": [
        "import timeit\n",
        "\n",
        "class Solution(object):\n",
        "    def twoSum(self, nums, target):\n",
        "        \"\"\"\n",
        "        :type nums: List[int]\n",
        "        :type target: int\n",
        "        :rtype: List[int]\n",
        "        \"\"\"\n",
        "        num_map = {}  # Dictionary to store the numbers and their indices\n",
        "\n",
        "        # Iterate through the array\n",
        "        for i, num in enumerate(nums):\n",
        "            complement = target - num\n",
        "\n",
        "            # Check if the complement exists in the dictionary\n",
        "            if complement in num_map:\n",
        "                return [num_map[complement], i]  # Return the indices\n",
        "\n",
        "            # Add the current number and its index to the dictionary\n",
        "            num_map[num] = i\n",
        "\n",
        "        return None  # No two numbers found that add up to the target"
      ],
      "metadata": {
        "id": "CihZbONE0BuU"
      },
      "execution_count": null,
      "outputs": []
    },
    {
      "cell_type": "markdown",
      "source": [
        "\n",
        "## Palindrome Number"
      ],
      "metadata": {
        "id": "PjjC0ZDGnKgI"
      }
    },
    {
      "cell_type": "code",
      "source": [
        "class Solution(object):\n",
        "    def isPalindrome(self, x):\n",
        "        \"\"\"\n",
        "        :type x: int\n",
        "        :rtype: bool\n",
        "        \"\"\"\n",
        "        if x / x == 1 and x > 0:\n",
        "            return \"true\"\n",
        "        else:\n",
        "            return \"false\""
      ],
      "metadata": {
        "id": "i73lPrMTnK1K"
      },
      "execution_count": 23,
      "outputs": []
    },
    {
      "cell_type": "code",
      "source": [
        "def get_inverse(num):\n",
        "    # Convert the integer to a string for easier manipulation\n",
        "    num_str = str(num)\n",
        "\n",
        "    # Reverse the string\n",
        "    reversed_str = num_str[::-1]\n",
        "\n",
        "    # Convert the reversed string back to an integer\n",
        "    inverse = int(reversed_str)\n",
        "\n",
        "    return inverse\n",
        "\n",
        "\n",
        "# Example usage\n",
        "num = 12345\n",
        "\n",
        "inverse = get_inverse(num)\n",
        "print(inverse)\n"
      ],
      "metadata": {
        "colab": {
          "base_uri": "https://localhost:8080/"
        },
        "id": "v8TwWi9WolDo",
        "outputId": "88cb8129-8b9b-4516-9703-8bf6036c3adc"
      },
      "execution_count": 41,
      "outputs": [
        {
          "output_type": "stream",
          "name": "stdout",
          "text": [
            "54321\n"
          ]
        }
      ]
    },
    {
      "cell_type": "code",
      "source": [
        "num_str = str(-121)\n",
        "num_inv = num_str[::-1]\n",
        "num_inv"
      ],
      "metadata": {
        "colab": {
          "base_uri": "https://localhost:8080/",
          "height": 36
        },
        "id": "p2zaQkTVolAx",
        "outputId": "040eef01-37c7-47d7-eadf-2b179e9031b3"
      },
      "execution_count": 44,
      "outputs": [
        {
          "output_type": "execute_result",
          "data": {
            "text/plain": [
              "'121-'"
            ],
            "application/vnd.google.colaboratory.intrinsic+json": {
              "type": "string"
            }
          },
          "metadata": {},
          "execution_count": 44
        }
      ]
    },
    {
      "cell_type": "code",
      "source": [
        "-"
      ],
      "metadata": {
        "id": "U-i-_8Kr6DQY"
      },
      "execution_count": null,
      "outputs": []
    },
    {
      "cell_type": "code",
      "source": [
        "num_inv[3]"
      ],
      "metadata": {
        "colab": {
          "base_uri": "https://localhost:8080/",
          "height": 36
        },
        "id": "W1QVSbeR51M7",
        "outputId": "8f64f043-014c-4c17-9bd0-35dd582a52f5"
      },
      "execution_count": 46,
      "outputs": [
        {
          "output_type": "execute_result",
          "data": {
            "text/plain": [
              "'-'"
            ],
            "application/vnd.google.colaboratory.intrinsic+json": {
              "type": "string"
            }
          },
          "metadata": {},
          "execution_count": 46
        }
      ]
    },
    {
      "cell_type": "code",
      "source": [
        "class Solution(object):\n",
        "    def isPalindrome(self, x):\n",
        "        \"\"\"\n",
        "        :type x: int\n",
        "        :rtype: str\n",
        "        \"\"\"\n",
        "        num_str = str(x)\n",
        "        num_inv = num_str[::-1]\n",
        "\n",
        "        if num_str[0] == '-':\n",
        "            return False\n",
        "        else:\n",
        "            return True if x == int(num_inv) else False\n",
        "\n",
        "# Example usage\n",
        "num = -121\n",
        "\n",
        "# Create an instance of the Solution class\n",
        "solution = Solution()\n",
        "\n",
        "# Call the isPalindrome method using the instance\n",
        "is_palindrome = solution.isPalindrome(num)\n",
        "\n",
        "print(is_palindrome)\n"
      ],
      "metadata": {
        "colab": {
          "base_uri": "https://localhost:8080/"
        },
        "id": "M3pUHI2P8L1M",
        "outputId": "0c8d2caf-11c4-41fc-fee5-8e7dd86c4750"
      },
      "execution_count": 56,
      "outputs": [
        {
          "output_type": "stream",
          "name": "stdout",
          "text": [
            "False\n"
          ]
        }
      ]
    },
    {
      "cell_type": "code",
      "source": [
        "class Solution(object):\n",
        "    def isPalindrome(self, x):\n",
        "        \"\"\"\n",
        "        :type x: int\n",
        "        :rtype: bool\n",
        "        \"\"\"\n",
        "        if x < 0:\n",
        "            return False\n",
        "\n",
        "        reverse = 0\n",
        "        original = x\n",
        "\n",
        "        while x > 0:\n",
        "            digit = x % 10\n",
        "            reverse = reverse * 10 + digit\n",
        "            x //= 10\n",
        "\n",
        "        return original == reverse\n",
        "\n",
        "# Example usage\n",
        "num = 121\n",
        "\n",
        "# Create an instance of the Solution class\n",
        "solution = Solution()\n",
        "\n",
        "# Call the isPalindrome method using the instance\n",
        "is_palindrome = solution.isPalindrome(num)\n",
        "\n",
        "print(is_palindrome)"
      ],
      "metadata": {
        "colab": {
          "base_uri": "https://localhost:8080/"
        },
        "id": "p3WDUPeI43sK",
        "outputId": "edab5511-4ffa-4356-8def-6f48d5d88071"
      },
      "execution_count": 54,
      "outputs": [
        {
          "output_type": "stream",
          "name": "stdout",
          "text": [
            "True\n"
          ]
        }
      ]
    },
    {
      "cell_type": "code",
      "source": [
        "num_str[::-2]"
      ],
      "metadata": {
        "colab": {
          "base_uri": "https://localhost:8080/",
          "height": 36
        },
        "id": "0KL_hlSto9YR",
        "outputId": "4fdbcd59-3dd7-406e-fad7-52d4271d44b8"
      },
      "execution_count": 30,
      "outputs": [
        {
          "output_type": "execute_result",
          "data": {
            "text/plain": [
              "'11'"
            ],
            "application/vnd.google.colaboratory.intrinsic+json": {
              "type": "string"
            }
          },
          "metadata": {},
          "execution_count": 30
        }
      ]
    },
    {
      "cell_type": "code",
      "source": [
        "num_str[0:3]"
      ],
      "metadata": {
        "colab": {
          "base_uri": "https://localhost:8080/",
          "height": 36
        },
        "id": "97loA0sgpFeJ",
        "outputId": "54379e79-cc7c-4ce9-aea8-3fe62caab2f6"
      },
      "execution_count": 39,
      "outputs": [
        {
          "output_type": "execute_result",
          "data": {
            "text/plain": [
              "'-12'"
            ],
            "application/vnd.google.colaboratory.intrinsic+json": {
              "type": "string"
            }
          },
          "metadata": {},
          "execution_count": 39
        }
      ]
    },
    {
      "cell_type": "code",
      "source": [
        "def get_alternate_characters(num):\n",
        "    # Convert the integer to a string\n",
        "    num_str = str(num)\n",
        "\n",
        "    # Reverse the string and extract every second character\n",
        "    alternate_chars = num_str[::-2]\n",
        "\n",
        "    return alternate_chars\n",
        "\n",
        "\n",
        "# Example usage\n",
        "num = 123456789\n",
        "\n",
        "alternate_chars = get_alternate_characters(num)\n",
        "print(alternate_chars)\n"
      ],
      "metadata": {
        "colab": {
          "base_uri": "https://localhost:8080/"
        },
        "id": "D7l6aZXQpFbg",
        "outputId": "52d2b78e-b381-4f24-c056-aa2cbf66ee3a"
      },
      "execution_count": 40,
      "outputs": [
        {
          "output_type": "stream",
          "name": "stdout",
          "text": [
            "97531\n"
          ]
        }
      ]
    },
    {
      "cell_type": "code",
      "source": [],
      "metadata": {
        "id": "GMNMGJMDpFYw"
      },
      "execution_count": null,
      "outputs": []
    },
    {
      "cell_type": "code",
      "source": [
        "x = -121\n",
        "\n",
        "solution = Solution()\n",
        "result = solution.isPalindrome(x)\n",
        "result"
      ],
      "metadata": {
        "colab": {
          "base_uri": "https://localhost:8080/",
          "height": 36
        },
        "id": "mSf1Vq4UnLqR",
        "outputId": "12bff48d-1044-4225-a277-bc7fc21ca356"
      },
      "execution_count": 24,
      "outputs": [
        {
          "output_type": "execute_result",
          "data": {
            "text/plain": [
              "'false'"
            ],
            "application/vnd.google.colaboratory.intrinsic+json": {
              "type": "string"
            }
          },
          "metadata": {},
          "execution_count": 24
        }
      ]
    },
    {
      "cell_type": "code",
      "source": [
        "x = 10\n",
        "solution = Solution()\n",
        "result = solution.isPalindrome(x)\n",
        "result"
      ],
      "metadata": {
        "colab": {
          "base_uri": "https://localhost:8080/",
          "height": 36
        },
        "id": "S01-m9IfnvOp",
        "outputId": "dd38b6b9-1d9a-4954-cc3b-64dbb9bb8434"
      },
      "execution_count": 25,
      "outputs": [
        {
          "output_type": "execute_result",
          "data": {
            "text/plain": [
              "'true'"
            ],
            "application/vnd.google.colaboratory.intrinsic+json": {
              "type": "string"
            }
          },
          "metadata": {},
          "execution_count": 25
        }
      ]
    },
    {
      "cell_type": "markdown",
      "source": [
        "## Roman to Integer\n"
      ],
      "metadata": {
        "id": "qkQaakShBA67"
      }
    },
    {
      "cell_type": "code",
      "source": [
        "Roman = {\"I\" : 1,\n",
        "         \"V\" : 5,\n",
        "         \"X\" : 10,\n",
        "         \"L\" : 50,\n",
        "         \"C\" : 100,\n",
        "         \"D\" : 500,\n",
        "         \"M\" : 1000}"
      ],
      "metadata": {
        "id": "4L2j5v8goXOt"
      },
      "execution_count": 77,
      "outputs": []
    },
    {
      "cell_type": "code",
      "source": [
        "Roman['V']+Roman['I']"
      ],
      "metadata": {
        "colab": {
          "base_uri": "https://localhost:8080/"
        },
        "id": "33vDmp_TBwuF",
        "outputId": "0a25048a-027d-4ac2-aac9-0930558d6389"
      },
      "execution_count": 78,
      "outputs": [
        {
          "output_type": "execute_result",
          "data": {
            "text/plain": [
              "6"
            ]
          },
          "metadata": {},
          "execution_count": 78
        }
      ]
    },
    {
      "cell_type": "code",
      "source": [
        "s ='VI'\n",
        "s[0]"
      ],
      "metadata": {
        "colab": {
          "base_uri": "https://localhost:8080/",
          "height": 36
        },
        "id": "EBj9vXbFEB5m",
        "outputId": "268582bb-5110-49db-f6c7-10c5b2d0b006"
      },
      "execution_count": 79,
      "outputs": [
        {
          "output_type": "execute_result",
          "data": {
            "text/plain": [
              "'V'"
            ],
            "application/vnd.google.colaboratory.intrinsic+json": {
              "type": "string"
            }
          },
          "metadata": {},
          "execution_count": 79
        }
      ]
    },
    {
      "cell_type": "code",
      "source": [
        "Roman[s[0]]"
      ],
      "metadata": {
        "colab": {
          "base_uri": "https://localhost:8080/"
        },
        "id": "C00fBAbRE25F",
        "outputId": "7f842179-4a37-4add-a99d-f477a3127538"
      },
      "execution_count": 81,
      "outputs": [
        {
          "output_type": "execute_result",
          "data": {
            "text/plain": [
              "5"
            ]
          },
          "metadata": {},
          "execution_count": 81
        }
      ]
    },
    {
      "cell_type": "code",
      "source": [
        "m = len(s)\n",
        "for j in range(s):\n",
        "  for k in (j+1, m):\n",
        "    if Roman[s[j]] < Roman[s[k]];\n",
        "      return Roman[s[k]] - Roman[s[k]]"
      ],
      "metadata": {
        "id": "OeWMgQoPEBxu"
      },
      "execution_count": null,
      "outputs": []
    },
    {
      "cell_type": "code",
      "source": [],
      "metadata": {
        "id": "iJUzp1KPEBu1"
      },
      "execution_count": null,
      "outputs": []
    },
    {
      "cell_type": "code",
      "source": [
        "def Roman(s)\n",
        "  n = len(Roman)\n",
        "  for i in range(n):\n",
        "    if\n"
      ],
      "metadata": {
        "colab": {
          "base_uri": "https://localhost:8080/"
        },
        "id": "A7O5ryExCFOX",
        "outputId": "457f9df8-5b3a-413d-a811-bb0661b40ee4"
      },
      "execution_count": 74,
      "outputs": [
        {
          "output_type": "execute_result",
          "data": {
            "text/plain": [
              "7"
            ]
          },
          "metadata": {},
          "execution_count": 74
        }
      ]
    },
    {
      "cell_type": "code",
      "source": [
        "def roman_to_int(s):\n",
        "    roman_values = {\n",
        "        \"I\": 1,\n",
        "        \"V\": 5,\n",
        "        \"X\": 10,\n",
        "        \"L\": 50,\n",
        "        \"C\": 100,\n",
        "        \"D\": 500,\n",
        "        \"M\": 1000\n",
        "    }\n",
        "\n",
        "    total = 0\n",
        "    prev_value = 0\n",
        "\n",
        "    for c in s[::-1]:\n",
        "        current_value = roman_values[c]\n",
        "        if current_value >= prev_value:\n",
        "            total += current_value\n",
        "        else:\n",
        "            total -= current_value\n",
        "        prev_value = current_value\n",
        "\n",
        "    return total\n",
        "\n",
        "# Example usage\n",
        "roman_numeral = \"XXI\"\n",
        "\n",
        "value = roman_to_int(roman_numeral)\n",
        "print(value)\n"
      ],
      "metadata": {
        "colab": {
          "base_uri": "https://localhost:8080/"
        },
        "id": "L_B2QkVjDoAN",
        "outputId": "00c760d9-482b-4545-e17a-39b199849799"
      },
      "execution_count": 82,
      "outputs": [
        {
          "output_type": "stream",
          "name": "stdout",
          "text": [
            "21\n"
          ]
        }
      ]
    },
    {
      "cell_type": "markdown",
      "source": [
        "#### From Solution"
      ],
      "metadata": {
        "id": "iENreCsGGZCO"
      }
    },
    {
      "cell_type": "markdown",
      "source": [
        "##### **Intuition:**\n",
        "The key intuition lies in the fact that in Roman numerals, when a smaller value appears before a larger value, it represents subtraction, while when a smaller value appears after or equal to a larger value, it represents addition.\n",
        "\n",
        "##### **Explanation:**\n",
        "1. The unordered map m is created and initialized with mappings between Roman numeral characters and their corresponding integer values. For example, 'I' is mapped to 1, 'V' to 5, 'X' to 10, and so on.\n",
        "\n",
        "2. The variable ans is initialized to 0. This variable will accumulate the final integer value of the Roman numeral string.\n",
        "\n",
        "3. The for loop iterates over each character in the input string s. <br>\n",
        "    **For the example \"IX\":**\n",
        "\n",
        "  - When i is 0, the current character s[i] is 'I'. Since there is a next character ('X'), and the value of 'I' (1) is less than the value of 'X' (10), the condition m[s[i]] < m[s[i+1]] is true. In this case, we subtract the value of the current character from ans. <br>\n",
        "\n",
        "      - ans -= m[s[i]];\n",
        "      - ans -= m['I'];\n",
        "      - ans -= 1;\n",
        "      - ans becomes -1.\n",
        "\n",
        "  - When i is 1, the current character s[i] is 'X'. This is the last character in the string, so there is no next character to compare. Since there is no next character, we don't need to evaluate the condition. In this case, we add the value of the current character to ans. <br>\n",
        "\n",
        "      - ans += m[s[i]];\n",
        "      - ans += m['X'];\n",
        "      - ans += 10;\n",
        "      - ans becomes 9.\n",
        "\n",
        "  **For the example \"XI\":**\n",
        "  - When i is 0, the current character s[i] is 'X'. Since there is a next character ('I'), and the value of 'X' (10) is greater than the value of 'I' (1), the condition m[s[i]] < m[s[i+1]] is false. In this case, we add the value of the current character to ans.\n",
        "    - ans += m[s[i]];\n",
        "    - ans += m['X'];\n",
        "    - ans += 10;\n",
        "    - ans becomes 10.\n",
        "\n",
        "  - When i is 1, the current character s[i] is 'I'. This is the last character in the string, so there is no next character to compare. Since there is no next character, we don't need to evaluate the condition. In this case, we add the value of the current character to ans.\n",
        "    - ans += m[s[i]];\n",
        "    - ans += m['I'];\n",
        "    - ans += 1;\n",
        "    - ans becomes 11.\n",
        "\n",
        "4. After the for loop, the accumulated value in ans represents the integer conversion of the Roman numeral string, and it is returned as the result."
      ],
      "metadata": {
        "id": "M6k9iGplGvzx"
      }
    },
    {
      "cell_type": "code",
      "source": [
        "class Solution:\n",
        "    def romanToInt(self, s: str) -> int:\n",
        "        m = {\n",
        "            'I': 1,\n",
        "            'V': 5,\n",
        "            'X': 10,\n",
        "            'L': 50,\n",
        "            'C': 100,\n",
        "            'D': 500,\n",
        "            'M': 1000\n",
        "        }\n",
        "\n",
        "        ans = 0\n",
        "\n",
        "        for i in range(len(s)):\n",
        "            if i < len(s) - 1 and m[s[i]] < m[s[i+1]]:\n",
        "                ans -= m[s[i]]\n",
        "            else:\n",
        "                ans += m[s[i]]\n",
        "\n",
        "        return ans"
      ],
      "metadata": {
        "id": "JNHkd41_GCRM"
      },
      "execution_count": 83,
      "outputs": []
    },
    {
      "cell_type": "code",
      "source": [
        "s = \"IX\"\n",
        "solution = Solution()\n",
        "solution.romanToInt(s)"
      ],
      "metadata": {
        "colab": {
          "base_uri": "https://localhost:8080/"
        },
        "id": "S5aes0dlGdKS",
        "outputId": "5fc26fcb-e915-4d08-81b5-b2bb9686ef9a"
      },
      "execution_count": 87,
      "outputs": [
        {
          "output_type": "execute_result",
          "data": {
            "text/plain": [
              "9"
            ]
          },
          "metadata": {},
          "execution_count": 87
        }
      ]
    },
    {
      "cell_type": "code",
      "source": [],
      "metadata": {
        "id": "S3MC8_6gGjyH"
      },
      "execution_count": null,
      "outputs": []
    }
  ]
}